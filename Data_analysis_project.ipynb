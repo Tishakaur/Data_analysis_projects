{
 "cells": [
  {
   "cell_type": "markdown",
   "metadata": {},
   "source": [
    "**Importing Libraries**"
   ]
  },
  {
   "cell_type": "code",
   "execution_count": null,
   "metadata": {},
   "outputs": [],
   "source": [
    "import pandas as pd                                                                        \n",
    "import matplotlib.pyplot as plt \n",
    "import seaborn as sns\n",
    "import warnings"
   ]
  },
  {
   "cell_type": "markdown",
   "metadata": {},
   "source": [
    "**loading the dataset**"
   ]
  },
  {
   "cell_type": "code",
   "execution_count": null,
   "metadata": {},
   "outputs": [],
   "source": [
    "df = pd.read_csv(r\"C:\\Users\\Tisha Kaur\\Downloads\\hotel_bookings 2.csv\")                 "
   ]
  },
  {
   "cell_type": "code",
   "execution_count": null,
   "metadata": {},
   "outputs": [],
   "source": [
    "df.head()                                                                                                                       #by default return first 5 rows"
   ]
  },
  {
   "cell_type": "code",
   "execution_count": null,
   "metadata": {},
   "outputs": [],
   "source": [
    "df.tail()                                                                                                                       #by default return last 5 rows"
   ]
  },
  {
   "cell_type": "code",
   "execution_count": null,
   "metadata": {},
   "outputs": [],
   "source": [
    "df.shape                                                                                                                        # return no. of rows and columns present in a dataset"
   ]
  },
  {
   "cell_type": "code",
   "execution_count": null,
   "metadata": {},
   "outputs": [],
   "source": [
    "df.columns                                                                                                                          # return no. coulmns present in a dataset"
   ]
  },
  {
   "cell_type": "code",
   "execution_count": null,
   "metadata": {},
   "outputs": [],
   "source": [
    "df.info()                                                                                                                          # datatype of  a given dataset"
   ]
  },
  {
   "cell_type": "code",
   "execution_count": null,
   "metadata": {},
   "outputs": [],
   "source": [
    "df['reservation_status_date'] = pd.to_datetime(df['reservation_status_date'], dayfirst=True)"
   ]
  },
  {
   "cell_type": "code",
   "execution_count": null,
   "metadata": {},
   "outputs": [],
   "source": [
    "df.describe(include ='object')                                                                                                    #summary statistics of object column"
   ]
  },
  {
   "cell_type": "code",
   "execution_count": null,
   "metadata": {},
   "outputs": [],
   "source": [
    "for col in df.describe(include = 'object').columns:                                                                              #return columns of object datatype in a dataset\n",
    "    print(col)\n",
    "    print(df[col].unique())\n",
    "    print('-'*50)"
   ]
  },
  {
   "cell_type": "code",
   "execution_count": null,
   "metadata": {},
   "outputs": [],
   "source": [
    "df.isnull().sum()                                                                                                                   # return the column name and total missing values"
   ]
  },
  {
   "cell_type": "code",
   "execution_count": null,
   "metadata": {},
   "outputs": [],
   "source": [
    "df.drop(['company','agent'],axis = 1,inplace = True)\n",
    "df.dropna(inplace = True)"
   ]
  },
  {
   "cell_type": "code",
   "execution_count": null,
   "metadata": {},
   "outputs": [],
   "source": [
    "df.isnull().sum()"
   ]
  },
  {
   "cell_type": "code",
   "execution_count": null,
   "metadata": {},
   "outputs": [],
   "source": [
    "df.describe()                                                                                                                            #summary statistic of numerical column"
   ]
  },
  {
   "cell_type": "code",
   "execution_count": null,
   "metadata": {},
   "outputs": [],
   "source": [
    "df['adr'].plot(kind = 'box')"
   ]
  },
  {
   "cell_type": "code",
   "execution_count": null,
   "metadata": {},
   "outputs": [],
   "source": [
    "df = df[df['adr']<5000]\n",
    "df.describe()"
   ]
  },
  {
   "cell_type": "markdown",
   "metadata": {},
   "source": [
    "**Data Analysis and Visualizations**"
   ]
  },
  {
   "cell_type": "code",
   "execution_count": null,
   "metadata": {},
   "outputs": [],
   "source": [
    "cancelled_perc = df['is_canceled'].value_counts(normalize =True)\n",
    "print(cancelled_perc)"
   ]
  },
  {
   "cell_type": "code",
   "execution_count": null,
   "metadata": {},
   "outputs": [],
   "source": [
    "cancelled_perc = df['is_canceled'].value_counts(normalize =True)                                                                              # reservation status count\n",
    "print(cancelled_perc)\n",
    "\n",
    "plt.figure(figsize = (5,4))\n",
    "plt.title('Reservation status count')\n",
    "plt.bar(['Not canceled','Canceled'],df['is_canceled'].value_counts(),edgecolor = 'k' , width=0.7)\n",
    "plt.show()"
   ]
  },
  {
   "cell_type": "code",
   "execution_count": null,
   "metadata": {},
   "outputs": [],
   "source": [
    "plt.figure(figsize = (8,4))\n",
    "ax1 = sns.countplot(x= 'hotel', hue = 'is_canceled',data = df, palette = 'Greens')\n",
    "legend_labels,_ = ax1.get_legend_handles_labels()\n",
    "plt.title('Reservatiom status in different hotels', size = 20)\n",
    "plt.xlabel('hotel')\n",
    "plt.ylabel('number of reservations')"
   ]
  },
  {
   "cell_type": "code",
   "execution_count": null,
   "metadata": {},
   "outputs": [],
   "source": [
    "resort_hotel = df[df['hotel'] == 'Resort Hotel']\n",
    "resort_hotel['is_canceled'].value_counts(normalize = True)                 "
   ]
  },
  {
   "cell_type": "code",
   "execution_count": null,
   "metadata": {},
   "outputs": [],
   "source": [
    "City_hotel = df[df['hotel'] == 'City hotel']\n",
    "City_hotel['is_canceled'].value_counts(normalize = True)           "
   ]
  },
  {
   "cell_type": "code",
   "execution_count": null,
   "metadata": {},
   "outputs": [],
   "source": [
    "resort_hotel = resort_hotel.groupby('reservation_status_date')[['adr']].mean()\n",
    "city_hotel = City_hotel.groupby('reservation_status_date')[['adr']].mean()"
   ]
  },
  {
   "cell_type": "code",
   "execution_count": null,
   "metadata": {},
   "outputs": [],
   "source": [
    "plt.figure(figsize = (20,8))\n",
    "plt.title('Average Daily Rate in City and resort hotel', fontsize = 30 )\n",
    "plt.plot(resort_hotel.index, resort_hotel['adr'],label ='resort hotel' )\n",
    "plt.plot(City_hotel.index, City_hotel['adr'],label ='City hotel' )\n",
    "plt.legend(fontsize = 20)\n",
    "plt.show()"
   ]
  },
  {
   "cell_type": "code",
   "execution_count": null,
   "metadata": {},
   "outputs": [],
   "source": [
    "df['month'] = df['reservation_status_date'].dt.month\n",
    "plt.figure(figsize = (16,8))\n",
    "ax1 = sns.countplot( x = 'month',hue = 'is_canceled', data = df)"
   ]
  },
  {
   "cell_type": "code",
   "execution_count": null,
   "metadata": {},
   "outputs": [],
   "source": [
    "plt.figure(figsize = (15,8))\n",
    "plt.title('ADR Per Month',fontsize = 30)\n",
    "plt.bar('month','adr',data = df[df['is_canceled'] ==1 ].groupby('month')[['adr']].sum().reset_index())\n",
    "plt.show()"
   ]
  },
  {
   "cell_type": "code",
   "execution_count": null,
   "metadata": {},
   "outputs": [],
   "source": [
    "cancelled_data = df[df['is_canceled'] == 1 ]\n",
    "top_10_country = cancelled_data['country'].value_counts()[:10]\n",
    "plt.figure(figsize = (8,8))\n",
    "plt.title(\"Top 10 COUNTRIES WITH CANCELED RESERVATIONS\" , fontsize =25)\n",
    "plt.pie(top_10_country,autopct = '%.2f',labels= top_10_country.index)\n",
    "plt.show()"
   ]
  },
  {
   "cell_type": "code",
   "execution_count": null,
   "metadata": {},
   "outputs": [],
   "source": [
    "df['market_segment'].value_counts()                                                                                                                                      #details  of a given datase"
   ]
  },
  {
   "cell_type": "code",
   "execution_count": null,
   "metadata": {},
   "outputs": [],
   "source": [
    "df['market_segment'].value_counts(normalize = True)                                                                                                                    # percentage count"
   ]
  },
  {
   "cell_type": "code",
   "execution_count": null,
   "metadata": {},
   "outputs": [],
   "source": [
    "cancelled_data['market_segment'].value_counts(normalize = True)"
   ]
  },
  {
   "cell_type": "code",
   "execution_count": null,
   "metadata": {},
   "outputs": [],
   "source": [
    "cancelled_df_adr = cancelled_data.groupby('reservation_status_date')[['adr']].mean()                                                                                           # to check adr of cancelled res. and non-cancelled  res.\n",
    "cancelled_df_adr.reset_index(inplace = True)   \n",
    "cancelled_df_adr.sort_values('reservation_status_date', inplace = True)\n",
    "\n",
    "not_cancelled_data = df[df['is_canceled'] == 0 ]\n",
    "not_cancelled_df_adr = not_cancelled_data.groupby('reservation_status_date')[['adr']].mean()\n",
    "not_cancelled_df_adr.reset_index(inplace = True)\n",
    "not_cancelled_df_adr.sort_values ('reservation_status_date', inplace = True )\n",
    "    \n",
    "plt.figure(figsize = (20,6))\n",
    "plt.title('AVERAGE DAILY RATE' ,fontsize = 30)\n",
    "plt.plot(not_cancelled_df_adr['reservation_status_date'],not_cancelled_df_adr['adr'] , label = 'not cancelled') \n",
    "plt.plot(cancelled_df_adr['reservation_status_date'],cancelled_df_adr['adr'],label = 'cancelled')\n",
    "plt.legend()                           "
   ]
  },
  {
   "cell_type": "code",
   "execution_count": null,
   "metadata": {},
   "outputs": [],
   "source": [
    "cancelled_df_adr = cancelled_df_adr[(cancelled_df_adr['reservation_status_date']>'2016')&(cancelled_df_adr['reservation_status_date']<'2017-09')]\n",
    "not_cancelled_df_adr = not_cancelled_df_adr[(not_cancelled_df_adr['reservation_status_date']>'2016')&(not_cancelled_df_adr['reservation_status_date']<'2017-09')]"
   ]
  },
  {
   "cell_type": "code",
   "execution_count": null,
   "metadata": {},
   "outputs": [],
   "source": [
    "plt.figure(figsize =(20,6))\n",
    "plt.title('AVERAGE DAILY RATE', fontsize = 30)\n",
    "plt.plot(not_cancelled_df_adr['reservation_status_date'],not_cancelled_df_adr['adr'],label = 'not cancelled')\n",
    "plt.plot(cancelled_df_adr['reservation_status_date'],cancelled_df_adr['adr'],label='cancelled')\n",
    "plt.legend(fontsize = 15)\n",
    "plt.show()"
   ]
  },
  {
   "cell_type": "code",
   "execution_count": null,
   "metadata": {},
   "outputs": [],
   "source": []
  }
 ],
 "metadata": {
  "kernelspec": {
   "display_name": "myev",
   "language": "python",
   "name": "python3"
  },
  "language_info": {
   "codemirror_mode": {
    "name": "ipython",
    "version": 3
   },
   "file_extension": ".py",
   "mimetype": "text/x-python",
   "name": "python",
   "nbconvert_exporter": "python",
   "pygments_lexer": "ipython3",
   "version": "3.11.5"
  }
 },
 "nbformat": 4,
 "nbformat_minor": 2
}

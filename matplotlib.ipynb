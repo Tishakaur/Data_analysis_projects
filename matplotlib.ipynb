{
 "cells": [
  {
   "cell_type": "code",
   "execution_count": null,
   "metadata": {},
   "outputs": [],
   "source": [
    "import matplotlib.pyplot as plt\n",
    "from matplotlib import style\n",
    "import numpy as np"
   ]
  },
  {
   "cell_type": "code",
   "execution_count": null,
   "metadata": {},
   "outputs": [],
   "source": [
    "# plotting to our canvas\n",
    "plt.plot([1,2,3],[4,5,1])\n",
    "# showing that we plotted\n",
    "plt.show()"
   ]
  },
  {
   "cell_type": "markdown",
   "metadata": {},
   "source": [
    "*ADDING TITLE AND LABELS TO OUR GRAPH*"
   ]
  },
  {
   "cell_type": "code",
   "execution_count": null,
   "metadata": {},
   "outputs": [],
   "source": [
    "x = [5,8,10]\n",
    "y = [12,16,6]\n",
    "\n",
    "plt.plot(x,y, color='m')\n",
    "plt.title('INFO')\n",
    "plt.ylabel('Y-axis')\n",
    "plt.xlabel('X-axis')\n",
    "plt.show()"
   ]
  },
  {
   "cell_type": "markdown",
   "metadata": {},
   "source": [
    "*ADDING STYLE TO OUR GRAPH*"
   ]
  },
  {
   "cell_type": "code",
   "execution_count": null,
   "metadata": {},
   "outputs": [],
   "source": [
    "style.use('ggplot')\n",
    "x = [5,8,10]\n",
    "y = [12,6,6]\n",
    "\n",
    "x2 = [6,9,11]\n",
    "y2 = [ 6,15,7]\n",
    "plt.plot(x,y,'g', label = 'Line one', linewidth=5 )\n",
    "plt.plot(x2,y2,'c',label='Line two',linewidth=5)\n",
    "plt.title('INFORMATION')\n",
    "plt.xlabel('X-Axis ')\n",
    "plt.ylabel('Y-axis')\n",
    "plt.legend()\n",
    "plt.grid(True, color='k')\n",
    "plt.show()\n"
   ]
  },
  {
   "cell_type": "markdown",
   "metadata": {},
   "source": [
    "*BAR GRAPH*"
   ]
  },
  {
   "cell_type": "code",
   "execution_count": null,
   "metadata": {},
   "outputs": [],
   "source": [
    "plt.bar([1,3,5,7,9],[5,2,7,8,2],label =' EXAMPLE ONE',color='m')\n",
    "plt.bar([2,4,6,8,10],[8,6,2,5,6],label='EXAMPLE TWO',color='c')\n",
    "plt.legend()\n",
    "plt.xlabel('BarNumber')\n",
    "plt.ylabel('Bar Height')\n",
    "plt.title('INFORMATION')\n",
    "plt.show()"
   ]
  },
  {
   "cell_type": "markdown",
   "metadata": {},
   "source": [
    "*HISTOGRAM*"
   ]
  },
  {
   "cell_type": "code",
   "execution_count": null,
   "metadata": {},
   "outputs": [],
   "source": [
    "Population_ages = [22,55,62,45,21,22,34,42,42,85,89,91,94,2,4,99,10,11,52,115,75,112,48,90,32,25,12]\n",
    "bins = [0,10,20,30,40,50,60,70,80,90,100,120,130]\n",
    "plt.hist(Population_ages,bins,histtype='bar',rwidth=0.7,color='g')\n",
    "plt.xlabel('X')\n",
    "plt.ylabel('Y')\n",
    "plt.title('HISTOGRAM')\n",
    "plt.legend()\n",
    "plt.show()"
   ]
  },
  {
   "cell_type": "markdown",
   "metadata": {},
   "source": [
    "*SCATTER PLOT*"
   ]
  },
  {
   "cell_type": "code",
   "execution_count": null,
   "metadata": {},
   "outputs": [],
   "source": [
    "x = [1,2,3,4,5,6,7,8]\n",
    "y = [5,2,4,2,1,4,5,2]\n",
    "plt.scatter(x,y,label='python',color='k')\n",
    "plt.xlabel('X-Axis')\n",
    "plt.ylabel('Y-Axis')\n",
    "plt.title('SCATTER PLOT')\n",
    "plt.legend()\n",
    "plt.show()"
   ]
  },
  {
   "cell_type": "markdown",
   "metadata": {},
   "source": [
    "*STACK PLOT*"
   ]
  },
  {
   "cell_type": "code",
   "execution_count": null,
   "metadata": {},
   "outputs": [],
   "source": [
    "Days = [1,2,3,4,5]\n",
    "Sleeping = [7,8,6,11,7]\n",
    "Eating = [2,3,4,3,2]\n",
    "Working = [7,8,7,2,2]\n",
    "Playing = [ 8,5,7,8,13]\n",
    "plt.plot([],[],color='m',label='Sleeping',linewidth=5)\n",
    "plt.plot([],[],color='c',label='Eating',linewidth=5)\n",
    "plt.plot([],[],color='r',label='Working',linewidth=5)\n",
    "plt.plot([],[],color='k',label='Playing',linewidth=5)\n",
    "plt.stackplot(Days,Sleeping,Eating,Working,Playing,colors=['m','c','r','k'])\n",
    "plt.xlabel('X-Axis')\n",
    "plt.ylabel('Y-Axis')\n",
    "plt.legend()\n",
    "plt.show()"
   ]
  },
  {
   "cell_type": "markdown",
   "metadata": {},
   "source": [
    "*WORKING WITH MULTIPLE PLOTS*"
   ]
  },
  {
   "cell_type": "code",
   "execution_count": null,
   "metadata": {},
   "outputs": [],
   "source": [
    "def f(t):\n",
    "    return np.exp(-t) * np.cos(2*np.pi*t)\n",
    "t1 = np.arange(0.0,5.0,0.1)\n",
    "t2 = np.arange(0.0,5.0,0.02)\n",
    "plt.subplot(211)\n",
    "plt.plot(t1,f(t1),'bo',t2,f(t2))\n",
    "plt.subplot(212)\n",
    "plt.plot(t2,np.cos(2*np.pi*t2))\n",
    "plt.show()"
   ]
  },
  {
   "cell_type": "markdown",
   "metadata": {},
   "source": [
    "*PIE CHART*"
   ]
  },
  {
   "cell_type": "code",
   "execution_count": null,
   "metadata": {},
   "outputs": [],
   "source": [
    "slices = [7,2,2,14]\n",
    "activities = ['Sleeping','Eating','Working','Playing']\n",
    "cols = ['c','m','r','b']\n",
    "plt.pie(slices,\n",
    "        labels = activities,\n",
    "        colors = cols,\n",
    "        startangle = 90,\n",
    "        shadow = True,\n",
    "        explode = (0,0.1,0,0),\n",
    "        autopct = '%1.1f%%')\n",
    "plt.title('Pie plot')\n",
    "plt.show()"
   ]
  }
 ],
 "metadata": {
  "kernelspec": {
   "display_name": "myev",
   "language": "python",
   "name": "python3"
  },
  "language_info": {
   "codemirror_mode": {
    "name": "ipython",
    "version": 3
   },
   "file_extension": ".py",
   "mimetype": "text/x-python",
   "name": "python",
   "nbconvert_exporter": "python",
   "pygments_lexer": "ipython3",
   "version": "3.11.5"
  }
 },
 "nbformat": 4,
 "nbformat_minor": 2
}
